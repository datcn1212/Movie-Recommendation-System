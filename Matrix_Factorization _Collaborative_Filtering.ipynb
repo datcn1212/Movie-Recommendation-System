{
 "cells": [
  {
   "cell_type": "code",
   "execution_count": 1,
   "id": "c37655a2",
   "metadata": {},
   "outputs": [],
   "source": [
    "import numpy as np\n",
    "import pandas as pd\n",
    "np.random.seed(42)"
   ]
  },
  {
   "cell_type": "code",
   "execution_count": 33,
   "id": "5d788466",
   "metadata": {},
   "outputs": [],
   "source": [
    "class MF():\n",
    "    #Initializing the user-movie rating matrix, no. of latent features, alpha and beta\n",
    "    def __init__(self,R,T, K, alpha,beta,iterations, bias=1):\n",
    "        self.bias=bias\n",
    "        self.R=R ## rating train matrix\n",
    "        self.num_users,self.num_items = R.shape\n",
    "        self.K = K ## number of latent features\n",
    "        self.T = T ## traing train matrix\n",
    "        self.alpha=alpha ## learning rate\n",
    "        self.beta=beta ## coefficient of regularization\n",
    "        self.iterations = iterations ## number of iter\n",
    "        self.b_u = np.zeros(self.num_users) ## bias of users\n",
    "        self.b_i = np.zeros(self.num_items) ## bias of item\n",
    "        self.b = np.mean(self.R[np.where(self.R!=0)]) ## initializing bias\n",
    "     \n",
    "    def train(self):\n",
    "         #Initializing user-feature and movie-feature matrix  \n",
    "        self.P = np.random.normal(scale=1./self.K, size = (self.num_users, self.K))\n",
    "        self.Q = np.random.normal(scale=1./self.K, size=(self.num_items, self.K))\n",
    "        \n",
    "        #Initializing the bias terms\n",
    "        self.b_u = np.zeros(self.num_users)\n",
    "        self.b_i = np.zeros(self.num_items)\n",
    "        self.b = np.mean(self.R[np.where(self.R!=0)])\n",
    "        \n",
    "        #List of training samples\n",
    "        self.samples = [\n",
    "            (i,j,self.R[i,j])\n",
    "            for i in range(self.num_users)\n",
    "            for j in range(self.num_items)\n",
    "            if self.R[i,j] > 0\n",
    "        ]\n",
    "        \n",
    "        #Stochastic gradient descent for given number of iterations\n",
    "        training_process = []\n",
    "        for i in range(self.iterations):\n",
    "            np.random.shuffle(self.samples)\n",
    "            ## SGD for update parameters\n",
    "            self.sgd()\n",
    "            rmse_train, rmse_test = self.rmse()\n",
    "            training_process.append((i, rmse_train, rmse_test))\n",
    "            if (i+1) % 20 == 0:\n",
    "                print(\"Iteration: %d ; rmse_train = %.4f ;rmse_test = %.4f\" % (i+1,rmse_train, rmse_test))\n",
    "        return training_process\n",
    "\n",
    "    \n",
    "    #Computing total root mean squared error of train and test\n",
    "    def rmse(self):\n",
    "        ## get rating train and test\n",
    "        xs_test,ys_test = self.T.nonzero()\n",
    "        xs_train, ys_train = self.R.nonzero()\n",
    "        \n",
    "        predicted = self.full_matrix()\n",
    "        error_test = 0\n",
    "        error_train = 0\n",
    "        \n",
    "        ## count number of ratings train and test\n",
    "        count_test = np.count_nonzero(T)\n",
    "        count_train = np.count_nonzero(R)\n",
    "        \n",
    "        ## calculate error on test_data\n",
    "        for x,y in zip(xs_test,ys_test):\n",
    "            error_test += pow(self.T[x,y] - predicted[x,y],2)\n",
    "        error_test /= count_test\n",
    "        \n",
    "        ## calculate error on train_data\n",
    "        for x,y in zip(xs_train,ys_train):\n",
    "            error_train += pow(self.R[x,y] - predicted[x,y],2)\n",
    "        error_train /= count_train\n",
    "        return np.sqrt(error_train), np.sqrt(error_test)\n",
    "        \n",
    "    # Stochastic gradient descent to get optimized P and Q matrix\n",
    "    def sgd(self):\n",
    "        for i, j, r in self.samples:\n",
    "            prediction = self.get_rating(i, j)\n",
    "            e = (r - prediction)\n",
    "            if self.bias:\n",
    "                self.b_u[i] += self.alpha * (e - self.beta * self.b_u[i])\n",
    "                self.b_i[j] += self.alpha * (e - self.beta * self.b_i[j])\n",
    "\n",
    "            self.P[i, :] += self.alpha * (e * self.Q[j, :] - self.beta * self.P[i,:])\n",
    "            self.Q[j, :] += self.alpha * (e * self.P[i, :] - self.beta * self.Q[j,:])\n",
    "        \n",
    "    #Ratings for user i and movie j\n",
    "    def get_rating(self,i,j):\n",
    "        if self.bias:\n",
    "            prediction = self.b + self.b_u[i] + self.b_i[j] + self.P[i, :].dot(self.Q[j, :].T)\n",
    "        else:\n",
    "            prediction = self.P[i, :].dot(self.Q[j, :].T)\n",
    "        return prediction\n",
    "                      \n",
    "    # Full user-movie rating matrix\n",
    "    def full_matrix(self):\n",
    "        if self.bias:\n",
    "            return mf.b + mf.b_u[:, np.newaxis] + mf.b_i[np.newaxis:,] + mf.P.dot(mf.Q.T)     \n",
    "        return mf.P.dot(mf.Q.T)\n",
    "    \n",
    "    def recommend(self, u, countItem = 0):           \n",
    "        recommended_items = []\n",
    "        for i in range(self.num_items):\n",
    "            if R[u-1][i] > 0:\n",
    "                continue\n",
    "            rating = self.get_rating(u-1,i) - self.b_u[u-1] - self.b\n",
    "            if rating > 0: \n",
    "                recommended_items.append((i + 1,rating))\n",
    "        if countItem > 0:\n",
    "            return list(zip(*sorted(recommended_items, key=lambda data: data[1], reverse=True)[:countItem]))[0] \n",
    "        return recommended_items"
   ]
  },
  {
   "cell_type": "code",
   "execution_count": 34,
   "id": "6deeaf18",
   "metadata": {},
   "outputs": [],
   "source": [
    "from utils import *\n",
    "all_ratings_train, ratings_train, ratings_valid, ratings_test = split_dataset()\n",
    "columns = [\"user_id\", \"movie_id\", \"rating\", \"unix_timestamp\"]\n",
    "all_ratings_train = pd.DataFrame(all_ratings_train, columns=columns)\n",
    "ratings_train = pd.DataFrame(ratings_train, columns=columns)\n",
    "ratings_valid = pd.DataFrame(ratings_valid, columns=columns)\n",
    "ratings_test = pd.DataFrame(ratings_test, columns=columns)\n",
    "\n",
    "n_users = int(np.max(ratings_train.iloc[:, 0])) \n",
    "n_items = int(np.max(ratings_train.iloc[:, 1]))\n",
    "\n",
    "# Predict all missing ratings:\n",
    "R= np.array(ratings_train.pivot(index = 'user_id', columns ='movie_id', values = 'rating').reindex(np.arange(1, n_items+1), axis ='columns').fillna(0))\n",
    "T= np.array(ratings_valid.pivot(index = 'user_id', columns ='movie_id', values = 'rating').reindex(np.arange(1, n_items+1), axis ='columns').fillna(0))"
   ]
  },
  {
   "cell_type": "code",
   "execution_count": 19,
   "id": "abca6633",
   "metadata": {},
   "outputs": [
    {
     "name": "stdout",
     "output_type": "stream",
     "text": [
      "Iteration: 20 ; rmse_train = 1.6288 ;rmse_test = 1.6745\n",
      "Iteration: 40 ; rmse_train = 1.0261 ;rmse_test = 1.0742\n",
      "Iteration: 60 ; rmse_train = 0.9411 ;rmse_test = 0.9967\n",
      "Iteration: 80 ; rmse_train = 0.9016 ;rmse_test = 0.9697\n",
      "Iteration: 100 ; rmse_train = 0.8676 ;rmse_test = 0.9549\n",
      "\n",
      "P x Q:\n",
      "[[ 3.93375388  3.40777472  3.16110236 ... -0.00905951  0.92755891\n",
      "   0.95868091]\n",
      " [ 4.14983605  3.48426515  3.27913243 ... -0.03516614  0.95195688\n",
      "   0.9269826 ]\n",
      " [ 3.18180861  2.74828821  2.57661306 ... -0.02852723  0.74118428\n",
      "   0.74218979]\n",
      " ...\n",
      " [ 3.95007115  3.32360102  3.17394767 ... -0.01663898  0.90574369\n",
      "   0.87525293]\n",
      " [ 4.23385635  3.61629673  3.3830447  ... -0.02372774  1.03188148\n",
      "   0.96907275]\n",
      " [ 3.75960937  3.29214824  3.21846595 ... -0.04183099  0.82964705\n",
      "   0.88413724]]\n",
      "\n"
     ]
    }
   ],
   "source": [
    "mf = MF(R,T, K=30, alpha=0.001, beta=0.005, iterations=100, bias=0)\n",
    "training_process = mf.train()\n",
    "print()\n",
    "print(\"P x Q:\")\n",
    "print(mf.full_matrix())\n",
    "print()"
   ]
  },
  {
   "cell_type": "code",
   "execution_count": 7,
   "id": "3b54abe2",
   "metadata": {},
   "outputs": [
    {
     "data": {
      "text/plain": [
       "(511, 919, 430, 408, 302, 474, 647, 171, 513, 530)"
      ]
     },
     "execution_count": 7,
     "metadata": {},
     "output_type": "execute_result"
    }
   ],
   "source": [
    "mf.recommend(1, countItem = 10)"
   ]
  },
  {
   "cell_type": "code",
   "execution_count": 10,
   "id": "77389664",
   "metadata": {},
   "outputs": [
    {
     "data": {
      "text/plain": [
       "73"
      ]
     },
     "execution_count": 10,
     "metadata": {},
     "output_type": "execute_result"
    }
   ],
   "source": [
    "np.array(training_process)[:, 1].argmin()"
   ]
  },
  {
   "cell_type": "code",
   "execution_count": 38,
   "id": "fb021ee3",
   "metadata": {},
   "outputs": [
    {
     "name": "stdout",
     "output_type": "stream",
     "text": [
      "10\n",
      "Iteration: 20 ; rmse_train = 1.5252 ;rmse_test = 1.5776\n",
      "Iteration: 40 ; rmse_train = 1.0113 ;rmse_test = 1.0673\n",
      "Iteration: 60 ; rmse_train = 0.9305 ;rmse_test = 0.9971\n",
      "Iteration: 80 ; rmse_train = 0.8912 ;rmse_test = 0.9733\n",
      "Iteration: 100 ; rmse_train = 0.8591 ;rmse_test = 0.9616\n",
      "20\n",
      "Iteration: 20 ; rmse_train = 1.5734 ;rmse_test = 1.6199\n",
      "Iteration: 40 ; rmse_train = 1.0196 ;rmse_test = 1.0697\n",
      "Iteration: 60 ; rmse_train = 0.9365 ;rmse_test = 0.9956\n",
      "Iteration: 80 ; rmse_train = 0.8957 ;rmse_test = 0.9691\n",
      "Iteration: 100 ; rmse_train = 0.8603 ;rmse_test = 0.9549\n",
      "30\n",
      "Iteration: 20 ; rmse_train = 1.5825 ;rmse_test = 1.6286\n",
      "Iteration: 40 ; rmse_train = 1.0236 ;rmse_test = 1.0715\n",
      "Iteration: 60 ; rmse_train = 0.9423 ;rmse_test = 0.9968\n",
      "Iteration: 80 ; rmse_train = 0.9038 ;rmse_test = 0.9705\n",
      "Iteration: 100 ; rmse_train = 0.8684 ;rmse_test = 0.9547\n",
      "40\n",
      "Iteration: 20 ; rmse_train = 1.6244 ;rmse_test = 1.6690\n",
      "Iteration: 40 ; rmse_train = 1.0292 ;rmse_test = 1.0754\n",
      "Iteration: 60 ; rmse_train = 0.9481 ;rmse_test = 0.9995\n",
      "Iteration: 80 ; rmse_train = 0.9131 ;rmse_test = 0.9742\n",
      "Iteration: 100 ; rmse_train = 0.8806 ;rmse_test = 0.9582\n",
      "50\n",
      "Iteration: 20 ; rmse_train = 1.6245 ;rmse_test = 1.6684\n",
      "Iteration: 40 ; rmse_train = 1.0294 ;rmse_test = 1.0748\n",
      "Iteration: 60 ; rmse_train = 0.9486 ;rmse_test = 0.9990\n",
      "Iteration: 80 ; rmse_train = 0.9137 ;rmse_test = 0.9732\n",
      "Iteration: 100 ; rmse_train = 0.8824 ;rmse_test = 0.9571\n"
     ]
    }
   ],
   "source": [
    "np.random.seed(42)\n",
    "for k in range(10, 51, 10):\n",
    "    mf = MF(R,T, K=k, alpha=0.001, beta=0.005, iterations=100, bias=0)\n",
    "    print(k)\n",
    "    training_process = mf.train()"
   ]
  },
  {
   "cell_type": "code",
   "execution_count": 39,
   "id": "91614dbd",
   "metadata": {},
   "outputs": [
    {
     "name": "stdout",
     "output_type": "stream",
     "text": [
      "10\n",
      "Iteration: 20 ; rmse_train = 0.9430 ;rmse_test = 0.9668\n",
      "Iteration: 40 ; rmse_train = 0.9199 ;rmse_test = 0.9550\n",
      "Iteration: 60 ; rmse_train = 0.9060 ;rmse_test = 0.9510\n",
      "Iteration: 80 ; rmse_train = 0.8917 ;rmse_test = 0.9493\n",
      "Iteration: 100 ; rmse_train = 0.8730 ;rmse_test = 0.9488\n",
      "20\n",
      "Iteration: 20 ; rmse_train = 0.9444 ;rmse_test = 0.9658\n",
      "Iteration: 40 ; rmse_train = 0.9231 ;rmse_test = 0.9539\n",
      "Iteration: 60 ; rmse_train = 0.9114 ;rmse_test = 0.9494\n",
      "Iteration: 80 ; rmse_train = 0.8996 ;rmse_test = 0.9467\n",
      "Iteration: 100 ; rmse_train = 0.8824 ;rmse_test = 0.9438\n",
      "30\n",
      "Iteration: 20 ; rmse_train = 0.9450 ;rmse_test = 0.9657\n",
      "Iteration: 40 ; rmse_train = 0.9246 ;rmse_test = 0.9538\n",
      "Iteration: 60 ; rmse_train = 0.9141 ;rmse_test = 0.9494\n",
      "Iteration: 80 ; rmse_train = 0.9045 ;rmse_test = 0.9469\n",
      "Iteration: 100 ; rmse_train = 0.8908 ;rmse_test = 0.9443\n",
      "40\n",
      "Iteration: 20 ; rmse_train = 0.9453 ;rmse_test = 0.9657\n",
      "Iteration: 40 ; rmse_train = 0.9253 ;rmse_test = 0.9539\n",
      "Iteration: 60 ; rmse_train = 0.9156 ;rmse_test = 0.9495\n",
      "Iteration: 80 ; rmse_train = 0.9076 ;rmse_test = 0.9474\n",
      "Iteration: 100 ; rmse_train = 0.8970 ;rmse_test = 0.9456\n",
      "50\n",
      "Iteration: 20 ; rmse_train = 0.9455 ;rmse_test = 0.9657\n",
      "Iteration: 40 ; rmse_train = 0.9257 ;rmse_test = 0.9539\n",
      "Iteration: 60 ; rmse_train = 0.9164 ;rmse_test = 0.9496\n",
      "Iteration: 80 ; rmse_train = 0.9088 ;rmse_test = 0.9474\n",
      "Iteration: 100 ; rmse_train = 0.8989 ;rmse_test = 0.9454\n"
     ]
    }
   ],
   "source": [
    "np.random.seed(42)\n",
    "for k in range(10, 51, 10):\n",
    "    mf = MF(R,T, K=k, alpha=0.001, beta=0.005, iterations=100, bias=1)\n",
    "    print(k)\n",
    "    training_process = mf.train()"
   ]
  },
  {
   "cell_type": "code",
   "execution_count": 40,
   "id": "6be2b6c3",
   "metadata": {},
   "outputs": [
    {
     "name": "stdout",
     "output_type": "stream",
     "text": [
      "0.002\n",
      "Iteration: 20 ; rmse_train = 1.0186 ;rmse_test = 1.0681\n",
      "Iteration: 40 ; rmse_train = 0.9000 ;rmse_test = 0.9710\n",
      "Iteration: 60 ; rmse_train = 0.8281 ;rmse_test = 0.9489\n",
      "Iteration: 80 ; rmse_train = 0.7559 ;rmse_test = 0.9483\n",
      "Iteration: 100 ; rmse_train = 0.6943 ;rmse_test = 0.9630\n",
      "0.003\n",
      "Iteration: 20 ; rmse_train = 0.9371 ;rmse_test = 0.9964\n",
      "Iteration: 40 ; rmse_train = 0.8237 ;rmse_test = 0.9479\n",
      "Iteration: 60 ; rmse_train = 0.7199 ;rmse_test = 0.9530\n",
      "Iteration: 80 ; rmse_train = 0.6449 ;rmse_test = 0.9787\n",
      "Iteration: 100 ; rmse_train = 0.5956 ;rmse_test = 1.0053\n",
      "0.005\n",
      "Iteration: 20 ; rmse_train = 0.8626 ;rmse_test = 0.9580\n",
      "Iteration: 40 ; rmse_train = 0.6898 ;rmse_test = 0.9665\n",
      "Iteration: 60 ; rmse_train = 0.5938 ;rmse_test = 1.0180\n",
      "Iteration: 80 ; rmse_train = 0.5443 ;rmse_test = 1.0580\n",
      "Iteration: 100 ; rmse_train = 0.5152 ;rmse_test = 1.0867\n",
      "0.01\n",
      "Iteration: 20 ; rmse_train = 0.6907 ;rmse_test = 0.9716\n",
      "Iteration: 40 ; rmse_train = 0.5476 ;rmse_test = 1.0576\n",
      "Iteration: 60 ; rmse_train = 0.4990 ;rmse_test = 1.1111\n",
      "Iteration: 80 ; rmse_train = 0.4757 ;rmse_test = 1.1476\n",
      "Iteration: 100 ; rmse_train = 0.4619 ;rmse_test = 1.1765\n"
     ]
    }
   ],
   "source": [
    "np.random.seed(42)\n",
    "alphas = [0.002, 0.003,  0.005, 0.01]\n",
    "for a in alphas:\n",
    "    mf = MF(R,T, K=20, alpha=a, beta=0.005, iterations=100, bias=0)\n",
    "    print(a)\n",
    "    training_process = mf.train()"
   ]
  },
  {
   "cell_type": "code",
   "execution_count": 41,
   "id": "383af9c5",
   "metadata": {},
   "outputs": [
    {
     "name": "stdout",
     "output_type": "stream",
     "text": [
      "0.002\n",
      "Iteration: 20 ; rmse_train = 0.9231 ;rmse_test = 0.9538\n",
      "Iteration: 40 ; rmse_train = 0.8997 ;rmse_test = 0.9468\n",
      "Iteration: 60 ; rmse_train = 0.8563 ;rmse_test = 0.9409\n",
      "Iteration: 80 ; rmse_train = 0.7862 ;rmse_test = 0.9391\n",
      "Iteration: 100 ; rmse_train = 0.7181 ;rmse_test = 0.9519\n",
      "0.003\n",
      "Iteration: 20 ; rmse_train = 0.9112 ;rmse_test = 0.9495\n",
      "Iteration: 40 ; rmse_train = 0.8558 ;rmse_test = 0.9407\n",
      "Iteration: 60 ; rmse_train = 0.7525 ;rmse_test = 0.9440\n",
      "Iteration: 80 ; rmse_train = 0.6633 ;rmse_test = 0.9717\n",
      "Iteration: 100 ; rmse_train = 0.6043 ;rmse_test = 1.0025\n",
      "0.005\n",
      "Iteration: 20 ; rmse_train = 0.8830 ;rmse_test = 0.9457\n",
      "Iteration: 40 ; rmse_train = 0.7147 ;rmse_test = 0.9579\n",
      "Iteration: 60 ; rmse_train = 0.5997 ;rmse_test = 1.0141\n",
      "Iteration: 80 ; rmse_train = 0.5412 ;rmse_test = 1.0588\n",
      "Iteration: 100 ; rmse_train = 0.5073 ;rmse_test = 1.0917\n",
      "0.01\n",
      "Iteration: 20 ; rmse_train = 0.7144 ;rmse_test = 0.9535\n",
      "Iteration: 40 ; rmse_train = 0.5411 ;rmse_test = 1.0534\n",
      "Iteration: 60 ; rmse_train = 0.4855 ;rmse_test = 1.1090\n",
      "Iteration: 80 ; rmse_train = 0.4595 ;rmse_test = 1.1457\n",
      "Iteration: 100 ; rmse_train = 0.4443 ;rmse_test = 1.1735\n"
     ]
    }
   ],
   "source": [
    "np.random.seed(42)\n",
    "alphas = [0.002, 0.003,  0.005, 0.01]\n",
    "for a in alphas:\n",
    "    mf = MF(R,T, K=20, alpha=a, beta=0.005, iterations=100, bias=1)\n",
    "    print(a)\n",
    "    training_process = mf.train()"
   ]
  },
  {
   "cell_type": "code",
   "execution_count": 42,
   "id": "89aa348e",
   "metadata": {},
   "outputs": [
    {
     "name": "stdout",
     "output_type": "stream",
     "text": [
      "0.001\n",
      "Iteration: 20 ; rmse_train = 1.5383 ;rmse_test = 1.5857\n",
      "Iteration: 40 ; rmse_train = 1.0182 ;rmse_test = 1.0681\n",
      "Iteration: 60 ; rmse_train = 0.9380 ;rmse_test = 0.9964\n",
      "Iteration: 80 ; rmse_train = 0.8976 ;rmse_test = 0.9707\n",
      "Iteration: 100 ; rmse_train = 0.8605 ;rmse_test = 0.9564\n",
      "0.002\n",
      "Iteration: 20 ; rmse_train = 1.5935 ;rmse_test = 1.6397\n",
      "Iteration: 40 ; rmse_train = 1.0202 ;rmse_test = 1.0706\n",
      "Iteration: 60 ; rmse_train = 0.9360 ;rmse_test = 0.9960\n",
      "Iteration: 80 ; rmse_train = 0.8941 ;rmse_test = 0.9695\n",
      "Iteration: 100 ; rmse_train = 0.8569 ;rmse_test = 0.9553\n",
      "0.01\n",
      "Iteration: 20 ; rmse_train = 1.5537 ;rmse_test = 1.6013\n",
      "Iteration: 40 ; rmse_train = 1.0187 ;rmse_test = 1.0689\n",
      "Iteration: 60 ; rmse_train = 0.9383 ;rmse_test = 0.9964\n",
      "Iteration: 80 ; rmse_train = 0.9000 ;rmse_test = 0.9709\n",
      "Iteration: 100 ; rmse_train = 0.8664 ;rmse_test = 0.9564\n",
      "0.02\n",
      "Iteration: 20 ; rmse_train = 1.5818 ;rmse_test = 1.6282\n",
      "Iteration: 40 ; rmse_train = 1.0224 ;rmse_test = 1.0719\n",
      "Iteration: 60 ; rmse_train = 0.9420 ;rmse_test = 0.9985\n",
      "Iteration: 80 ; rmse_train = 0.9063 ;rmse_test = 0.9736\n",
      "Iteration: 100 ; rmse_train = 0.8758 ;rmse_test = 0.9590\n"
     ]
    }
   ],
   "source": [
    "np.random.seed(42)\n",
    "betas = [0.001, 0.002, 0.01, 0.02]\n",
    "for b in betas:\n",
    "    mf = MF(R,T, K=20, alpha=0.001, beta=b, iterations=100, bias=0)\n",
    "    print(b)\n",
    "    training_process = mf.train()"
   ]
  },
  {
   "cell_type": "code",
   "execution_count": 46,
   "id": "b21cd3bb",
   "metadata": {},
   "outputs": [
    {
     "name": "stdout",
     "output_type": "stream",
     "text": [
      "0.001\n",
      "Iteration: 20 ; rmse_train = 0.9442 ;rmse_test = 0.9656\n",
      "Iteration: 40 ; rmse_train = 0.9228 ;rmse_test = 0.9537\n",
      "Iteration: 60 ; rmse_train = 0.9108 ;rmse_test = 0.9494\n",
      "Iteration: 80 ; rmse_train = 0.8982 ;rmse_test = 0.9469\n",
      "Iteration: 100 ; rmse_train = 0.8795 ;rmse_test = 0.9442\n",
      "0.002\n",
      "Iteration: 20 ; rmse_train = 0.9442 ;rmse_test = 0.9658\n",
      "Iteration: 40 ; rmse_train = 0.9228 ;rmse_test = 0.9539\n",
      "Iteration: 60 ; rmse_train = 0.9108 ;rmse_test = 0.9495\n",
      "Iteration: 80 ; rmse_train = 0.8982 ;rmse_test = 0.9469\n",
      "Iteration: 100 ; rmse_train = 0.8796 ;rmse_test = 0.9441\n",
      "0.01\n",
      "Iteration: 20 ; rmse_train = 0.9445 ;rmse_test = 0.9661\n",
      "Iteration: 40 ; rmse_train = 0.9235 ;rmse_test = 0.9542\n",
      "Iteration: 60 ; rmse_train = 0.9122 ;rmse_test = 0.9499\n",
      "Iteration: 80 ; rmse_train = 0.9015 ;rmse_test = 0.9476\n",
      "Iteration: 100 ; rmse_train = 0.8866 ;rmse_test = 0.9456\n",
      "0.02\n",
      "Iteration: 20 ; rmse_train = 0.9449 ;rmse_test = 0.9660\n",
      "Iteration: 40 ; rmse_train = 0.9241 ;rmse_test = 0.9539\n",
      "Iteration: 60 ; rmse_train = 0.9136 ;rmse_test = 0.9495\n",
      "Iteration: 80 ; rmse_train = 0.9045 ;rmse_test = 0.9470\n",
      "Iteration: 100 ; rmse_train = 0.8928 ;rmse_test = 0.9447\n"
     ]
    }
   ],
   "source": [
    "np.random.seed(42)\n",
    "betas = [0.001, 0.002, 0.01, 0.02]\n",
    "for a in betas:\n",
    "    mf = MF(R,T, K=20, alpha=0.001, beta=a, iterations=100, bias=1)\n",
    "    print(a)\n",
    "    training_process = mf.train()"
   ]
  },
  {
   "cell_type": "code",
   "execution_count": 47,
   "id": "9db34d32",
   "metadata": {},
   "outputs": [
    {
     "name": "stdout",
     "output_type": "stream",
     "text": [
      "Iteration: 20 ; rmse_train = 0.9444 ;rmse_test = 0.9656\n",
      "Iteration: 40 ; rmse_train = 0.9231 ;rmse_test = 0.9537\n",
      "Iteration: 60 ; rmse_train = 0.9114 ;rmse_test = 0.9494\n",
      "Iteration: 80 ; rmse_train = 0.8997 ;rmse_test = 0.9469\n",
      "Iteration: 100 ; rmse_train = 0.8826 ;rmse_test = 0.9442\n",
      "Iteration: 120 ; rmse_train = 0.8564 ;rmse_test = 0.9409\n",
      "Iteration: 140 ; rmse_train = 0.8225 ;rmse_test = 0.9383\n",
      "Iteration: 160 ; rmse_train = 0.7865 ;rmse_test = 0.9390\n",
      "Iteration: 180 ; rmse_train = 0.7513 ;rmse_test = 0.9437\n",
      "Iteration: 200 ; rmse_train = 0.7185 ;rmse_test = 0.9519\n"
     ]
    }
   ],
   "source": [
    "np.random.seed(42)\n",
    "mf = MF(R,T, K=20, alpha=0.001, beta=0.005, iterations=200, bias=1)\n",
    "training_process = mf.train()"
   ]
  },
  {
   "cell_type": "code",
   "execution_count": 48,
   "id": "6aef4636",
   "metadata": {},
   "outputs": [
    {
     "data": {
      "text/plain": [
       "146"
      ]
     },
     "execution_count": 48,
     "metadata": {},
     "output_type": "execute_result"
    }
   ],
   "source": [
    "np.array(training_process)[:, 2].argmin()"
   ]
  },
  {
   "cell_type": "code",
   "execution_count": 49,
   "id": "016e1067",
   "metadata": {},
   "outputs": [
    {
     "data": {
      "text/plain": [
       "(150, 0.8027273496426064, 0.9382031684385453)"
      ]
     },
     "execution_count": 49,
     "metadata": {},
     "output_type": "execute_result"
    }
   ],
   "source": [
    "training_process[150]"
   ]
  },
  {
   "cell_type": "code",
   "execution_count": 50,
   "id": "93173ff5",
   "metadata": {},
   "outputs": [
    {
     "name": "stdout",
     "output_type": "stream",
     "text": [
      "Iteration: 20 ; rmse_train = 1.5404 ;rmse_test = 1.5877\n",
      "Iteration: 40 ; rmse_train = 1.0189 ;rmse_test = 1.0686\n",
      "Iteration: 60 ; rmse_train = 0.9391 ;rmse_test = 0.9968\n",
      "Iteration: 80 ; rmse_train = 0.8999 ;rmse_test = 0.9711\n",
      "Iteration: 100 ; rmse_train = 0.8645 ;rmse_test = 0.9565\n",
      "Iteration: 120 ; rmse_train = 0.8282 ;rmse_test = 0.9485\n",
      "Iteration: 140 ; rmse_train = 0.7916 ;rmse_test = 0.9460\n",
      "Iteration: 160 ; rmse_train = 0.7563 ;rmse_test = 0.9479\n",
      "Iteration: 180 ; rmse_train = 0.7238 ;rmse_test = 0.9540\n",
      "Iteration: 200 ; rmse_train = 0.6948 ;rmse_test = 0.9627\n"
     ]
    }
   ],
   "source": [
    "np.random.seed(42)\n",
    "mf = MF(R,T, K=20, alpha=0.001, beta=0.005, iterations=200, bias=0)\n",
    "training_process = mf.train()"
   ]
  },
  {
   "cell_type": "code",
   "execution_count": 52,
   "id": "902c4806",
   "metadata": {},
   "outputs": [
    {
     "data": {
      "text/plain": [
       "(150, 0.771892491596147, 0.9464578087055523)"
      ]
     },
     "execution_count": 52,
     "metadata": {},
     "output_type": "execute_result"
    }
   ],
   "source": [
    "training_process[150]"
   ]
  },
  {
   "cell_type": "code",
   "execution_count": 53,
   "id": "9a29f661",
   "metadata": {},
   "outputs": [
    {
     "name": "stdout",
     "output_type": "stream",
     "text": [
      "Iteration: 20 ; rmse_train = 0.9403 ;rmse_test = 0.9578\n",
      "Iteration: 40 ; rmse_train = 0.9218 ;rmse_test = 0.9455\n",
      "Iteration: 60 ; rmse_train = 0.9107 ;rmse_test = 0.9408\n",
      "Iteration: 80 ; rmse_train = 0.8967 ;rmse_test = 0.9367\n",
      "Iteration: 100 ; rmse_train = 0.8729 ;rmse_test = 0.9306\n",
      "Iteration: 120 ; rmse_train = 0.8391 ;rmse_test = 0.9244\n",
      "Iteration: 140 ; rmse_train = 0.8026 ;rmse_test = 0.9229\n"
     ]
    },
    {
     "data": {
      "text/plain": [
       "(149, 0.7846477828794628, 0.9240660518641352)"
      ]
     },
     "execution_count": 53,
     "metadata": {},
     "output_type": "execute_result"
    }
   ],
   "source": [
    "R= np.array(all_ratings_train.pivot(index = 'user_id', columns ='movie_id', values = 'rating').reindex(np.arange(1, n_items+1), axis ='columns').fillna(0))\n",
    "T= np.array(ratings_test.pivot(index = 'user_id', columns ='movie_id', values = 'rating').reindex(np.arange(1, n_items+1), axis ='columns').fillna(0))\n",
    "np.random.seed(42)\n",
    "mf = MF(R,T, K=20, alpha=0.001, beta=0.005, iterations=150, bias=1)\n",
    "training_process = mf.train()\n",
    "training_process[-1]"
   ]
  },
  {
   "cell_type": "code",
   "execution_count": null,
   "id": "d05e2567",
   "metadata": {},
   "outputs": [],
   "source": []
  }
 ],
 "metadata": {
  "kernelspec": {
   "display_name": "Python 3 (ipykernel)",
   "language": "python",
   "name": "python3"
  },
  "language_info": {
   "codemirror_mode": {
    "name": "ipython",
    "version": 3
   },
   "file_extension": ".py",
   "mimetype": "text/x-python",
   "name": "python",
   "nbconvert_exporter": "python",
   "pygments_lexer": "ipython3",
   "version": "3.9.7"
  }
 },
 "nbformat": 4,
 "nbformat_minor": 5
}
