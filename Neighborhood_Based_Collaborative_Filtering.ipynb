{
 "cells": [
  {
   "cell_type": "markdown",
   "id": "7a62d286",
   "metadata": {},
   "source": [
    "<h1> K Nearest Neighborhood\n",
    "    "
   ]
  },
  {
   "cell_type": "code",
   "execution_count": 2,
   "id": "e2603a6c",
   "metadata": {},
   "outputs": [],
   "source": [
    "from sklearn.metrics.pairwise import cosine_similarity\n",
    "from scipy import sparse\n",
    "import numpy as np\n",
    "import pandas as pd\n",
    "import time"
   ]
  },
  {
   "cell_type": "code",
   "execution_count": 2,
   "id": "d9db9553",
   "metadata": {},
   "outputs": [],
   "source": [
    "class CF():\n",
    "    def __init__(self, Y_data, k, dist_func = cosine_similarity, uuCF = 1):\n",
    "        ## define user-user CF if uuCF =1 or item-item CF otherwise\n",
    "        self.uuCF = uuCF\n",
    "        self.Y_data = Y_data if uuCF else Y_data[:, [1, 0, 2]]\n",
    "        self.k = k\n",
    "        self.dist_func = dist_func\n",
    "        self.Ybar_data = None\n",
    "        self.n_users = int(np.max(self.Y_data[:, 0])) + 1\n",
    "        self.n_items = int(np.max(self.Y_data[:, 1])) + 1\n",
    "    \n",
    "    # normalize rating -1 to 1\n",
    "    def normalize_Y(self):\n",
    "        users = self.Y_data[:, 0]\n",
    "        self.Ybar_data = self.Y_data.copy()\n",
    "        self.mu = np.zeros((self.n_users, ))\n",
    "        \n",
    "        for n in range(self.n_users):\n",
    "            # row indices of rating done by user n\n",
    "            # since indices need to be integers, we need to convert\n",
    "            ids = np.where(users == n)[0].astype(np.int32)\n",
    "            \n",
    "            # indices of all ratings associated with user n\n",
    "            item_ids = self.Y_data[ids, 1] \n",
    "            \n",
    "            # and the corresponding ratings \n",
    "            ratings = self.Y_data[ids, 2]\n",
    "            \n",
    "            #take mean\n",
    "            m = np.nanmean(ratings)\n",
    "            if np.isnan(m):\n",
    "                m = 0 # to avoid empty array and nan value\n",
    "            self.mu[n] = m\n",
    "            \n",
    "            #normalize\n",
    "            self.Ybar_data[ids, 2] = ratings - self.mu[n]\n",
    "            \n",
    "        ## store nonzeros\n",
    "        self.Ybar = sparse.coo_matrix((self.Ybar_data[:, 2],\n",
    "            (self.Ybar_data[:, 1], self.Ybar_data[:, 0])), (self.n_items, self.n_users))\n",
    "        self.Ybar = self.Ybar.tocsr()\n",
    "        \n",
    "    def similarity(self):\n",
    "        eps = 1e-6\n",
    "        self.S = self.dist_func(self.Ybar.T)\n",
    "    \n",
    "    def refresh(self):\n",
    "        self.normalize_Y()\n",
    "        self.similarity()\n",
    "        \n",
    "    def fit(self):\n",
    "        self.refresh()\n",
    "    \n",
    "    def __pred(self, u, i, normalized = 1):\n",
    "        # Step 1: find all users who rated i\n",
    "        ids = np.where(self.Y_data[:, 1] == i)[0].astype(np.int32)\n",
    "        \n",
    "        # Step 2: \n",
    "        users_rated_i = (self.Y_data[ids, 0]).astype(np.int32)\n",
    "        # Step 3: find similarity btw the current user and others \n",
    "        # who already rated i\n",
    "        sim = self.S[u, users_rated_i]\n",
    "        # Step 4: find the k most similarity users\n",
    "        a = np.argsort(sim)[-self.k:] \n",
    "        # and the corresponding similarity levels\n",
    "        nearest_s = sim[a]\n",
    "        # How did each of 'near' users rated item i\n",
    "        r = self.Ybar[i, users_rated_i[a]]\n",
    "        if normalized:\n",
    "            # add a small number, for instance, 1e-8, to avoid dividing by 0\n",
    "            return (r*nearest_s)[0]/(np.abs(nearest_s).sum() + 1e-8)\n",
    "\n",
    "        return (r*nearest_s)[0]/(np.abs(nearest_s).sum() + 1e-8) + self.mu[u]\n",
    "    \n",
    "    def pred(self, u, i, normalized = 1):\n",
    "        if self.uuCF: return self.__pred(u, i, normalized)\n",
    "        return self.__pred(i, u, normalized)\n",
    "    \n",
    "    def recommend(self, u, perUser = 1, countItem = 0):\n",
    "        if perUser == 1:\n",
    "            u-=1\n",
    "        ids = np.where(self.Y_data[:, 0] == u)[0]\n",
    "        items_rated_by_u = self.Y_data[ids, 1].tolist()              \n",
    "        recommended_items = []\n",
    "        for i in range(self.n_items):\n",
    "            if i not in items_rated_by_u:\n",
    "                rating = self.__pred(u, i)\n",
    "                if rating > 0: \n",
    "                    recommended_items.append((i+1, rating))\n",
    "        if countItem > 0:\n",
    "            return list(zip(*sorted(recommended_items, key=lambda data: data[1], reverse=True)[:countItem]))[0]\n",
    "        return recommended_items\n",
    "    \n",
    "    def print_recommendation(self):\n",
    "        print('Recommendation: ')\n",
    "        for u in range(self.n_users):\n",
    "            recommended_items = self.recommend(u, perUser=0)\n",
    "            if self.uuCF:\n",
    "                print('    Recommend item(s):', recommended_items, 'for user', u + 1)\n",
    "            else: \n",
    "                print('    Recommend item', u + 1, 'for user(s) : ', recommended_items)      \n",
    "        # Calculate RMSE\n",
    "    def rmse(self, rate_test):\n",
    "        n_tests = rate_test.shape[0]\n",
    "        SE = 0 # squared error\n",
    "        for n in range(n_tests):\n",
    "            if self.uuCF:\n",
    "                SE += (self.__pred(rate_test[n, 0], rate_test[n, 1], normalized = 0) - rate_test[n, 2])**2 \n",
    "            else:\n",
    "                SE += (self.__pred(rate_test[n, 1], rate_test[n, 0], normalized = 0) - rate_test[n, 2])**2\n",
    "        return np.sqrt(SE/n_tests)"
   ]
  },
  {
   "cell_type": "code",
   "execution_count": 3,
   "id": "2ca798e5",
   "metadata": {},
   "outputs": [
    {
     "name": "stdout",
     "output_type": "stream",
     "text": [
      "The Zen of Python, by Tim Peters\n",
      "\n",
      "Beautiful is better than ugly.\n",
      "Explicit is better than implicit.\n",
      "Simple is better than complex.\n",
      "Complex is better than complicated.\n",
      "Flat is better than nested.\n",
      "Sparse is better than dense.\n",
      "Readability counts.\n",
      "Special cases aren't special enough to break the rules.\n",
      "Although practicality beats purity.\n",
      "Errors should never pass silently.\n",
      "Unless explicitly silenced.\n",
      "In the face of ambiguity, refuse the temptation to guess.\n",
      "There should be one-- and preferably only one --obvious way to do it.\n",
      "Although that way may not be obvious at first unless you're Dutch.\n",
      "Now is better than never.\n",
      "Although never is often better than *right* now.\n",
      "If the implementation is hard to explain, it's a bad idea.\n",
      "If the implementation is easy to explain, it may be a good idea.\n",
      "Namespaces are one honking great idea -- let's do more of those!\n"
     ]
    }
   ],
   "source": [
    "from utils import *\n",
    "all_train, rate_train, rate_valid, rate_test = split_dataset()\n",
    "\n",
    "# indices start from 0\n",
    "all_train[:, :2] -= 1\n",
    "rate_valid[:, :2] -=1\n",
    "rate_train[:, :2] -= 1\n",
    "rate_test[:, :2] -= 1"
   ]
  },
  {
   "cell_type": "markdown",
   "id": "2716c01f",
   "metadata": {},
   "source": [
    "Calculate RMSE with k = 30, user_Knn"
   ]
  },
  {
   "cell_type": "code",
   "execution_count": 4,
   "id": "9587c7ce",
   "metadata": {},
   "outputs": [
    {
     "data": {
      "text/plain": [
       "0.9587480580770331"
      ]
     },
     "execution_count": 4,
     "metadata": {},
     "output_type": "execute_result"
    }
   ],
   "source": [
    "rs = CF(all_train, k = 30, uuCF = 1)\n",
    "rs.fit()\n",
    "rs.rmse(rate_test)"
   ]
  },
  {
   "cell_type": "markdown",
   "id": "ef9707f4",
   "metadata": {},
   "source": [
    "Calculate RMSE with k = 30, item_Knn"
   ]
  },
  {
   "cell_type": "code",
   "execution_count": 5,
   "id": "c017f413",
   "metadata": {},
   "outputs": [
    {
     "name": "stderr",
     "output_type": "stream",
     "text": [
      "C:\\Users\\DELL\\anaconda3\\lib\\site-packages\\numpy\\core\\fromnumeric.py:3419: RuntimeWarning: Mean of empty slice.\n",
      "  return _methods._mean(a, axis=axis, dtype=dtype,\n",
      "C:\\Users\\DELL\\anaconda3\\lib\\site-packages\\numpy\\core\\_methods.py:188: RuntimeWarning: invalid value encountered in double_scalars\n",
      "  ret = ret.dtype.type(ret / rcount)\n"
     ]
    },
    {
     "data": {
      "text/plain": [
       "0.9537821911421"
      ]
     },
     "execution_count": 5,
     "metadata": {},
     "output_type": "execute_result"
    }
   ],
   "source": [
    "rs = CF(all_train, k = 30, uuCF = 0)\n",
    "rs.fit()\n",
    "rs.rmse(rate_test)"
   ]
  },
  {
   "cell_type": "code",
   "execution_count": 6,
   "id": "ee436fb2",
   "metadata": {},
   "outputs": [
    {
     "data": {
      "text/plain": [
       "(507, 850, 849, 810, 811, 939, 152, 118, 513, 477)"
      ]
     },
     "execution_count": 6,
     "metadata": {},
     "output_type": "execute_result"
    }
   ],
   "source": [
    "rs.recommend(1,countItem=10)"
   ]
  },
  {
   "cell_type": "code",
   "execution_count": 8,
   "id": "e77c183e",
   "metadata": {},
   "outputs": [],
   "source": [
    "rmse_result = dict({\"k\": [], \"User_kNN_RMSE\": [], \"Item_kNN_RMSE\": []})\n",
    "for n in range(5, 100, 5):\n",
    "    rs_user = CF(rate_train, k = n, uuCF = 1)\n",
    "    rs_user.fit()\n",
    "    res_user = rs_user.rmse(rate_valid)\n",
    "    rs_item = CF(rate_train, k = n, uuCF = 0)\n",
    "    rs_item.fit()\n",
    "    res_item = rs_item.rmse(rate_test)\n",
    "    rmse_result[\"k\"].append(n)\n",
    "    rmse_result[\"User_kNN_RMSE\"].append(res_user)\n",
    "    rmse_result[\"Item_kNN_RMSE\"].append(res_item)"
   ]
  },
  {
   "cell_type": "code",
   "execution_count": 13,
   "id": "810d2b2c",
   "metadata": {},
   "outputs": [
    {
     "data": {
      "text/plain": [
       "<AxesSubplot:xlabel='k'>"
      ]
     },
     "execution_count": 13,
     "metadata": {},
     "output_type": "execute_result"
    },
    {
     "data": {
      "image/png": "[encoded data removed]",
      "text/plain": [
       "<Figure size 432x288 with 1 Axes>"
      ]
     },
     "metadata": {
      "needs_background": "light"
     },
     "output_type": "display_data"
    }
   ],
   "source": [
    "import matplotlib.pyplot as plt\n",
    "\n",
    "rmse_result = pd.DataFrame(rmse_result)\n",
    "rmse_result.set_index(\"k\")\n",
    "\n",
    "rmse_result.plot.line(x=\"k\")"
   ]
  },
  {
   "cell_type": "code",
   "execution_count": 14,
   "id": "231be0d6",
   "metadata": {},
   "outputs": [
    {
     "data": {
      "text/html": [
       "<div>\n",
       "<style scoped>\n",
       "    .dataframe tbody tr th:only-of-type {\n",
       "        vertical-align: middle;\n",
       "    }\n",
       "\n",
       "    .dataframe tbody tr th {\n",
       "        vertical-align: top;\n",
       "    }\n",
       "\n",
       "    .dataframe thead th {\n",
       "        text-align: right;\n",
       "    }\n",
       "</style>\n",
       "<table border=\"1\" class=\"dataframe\">\n",
       "  <thead>\n",
       "    <tr style=\"text-align: right;\">\n",
       "      <th></th>\n",
       "      <th>k</th>\n",
       "      <th>User_kNN_RMSE</th>\n",
       "      <th>Item_kNN_RMSE</th>\n",
       "    </tr>\n",
       "  </thead>\n",
       "  <tbody>\n",
       "    <tr>\n",
       "      <th>0</th>\n",
       "      <td>5</td>\n",
       "      <td>0.989842</td>\n",
       "      <td>0.983738</td>\n",
       "    </tr>\n",
       "    <tr>\n",
       "      <th>1</th>\n",
       "      <td>10</td>\n",
       "      <td>0.972811</td>\n",
       "      <td>0.971920</td>\n",
       "    </tr>\n",
       "    <tr>\n",
       "      <th>2</th>\n",
       "      <td>15</td>\n",
       "      <td>0.970277</td>\n",
       "      <td>0.969290</td>\n",
       "    </tr>\n",
       "    <tr>\n",
       "      <th>3</th>\n",
       "      <td>20</td>\n",
       "      <td>0.969584</td>\n",
       "      <td>0.968541</td>\n",
       "    </tr>\n",
       "    <tr>\n",
       "      <th>4</th>\n",
       "      <td>25</td>\n",
       "      <td>0.969495</td>\n",
       "      <td>0.967912</td>\n",
       "    </tr>\n",
       "    <tr>\n",
       "      <th>5</th>\n",
       "      <td>30</td>\n",
       "      <td>0.970541</td>\n",
       "      <td>0.968824</td>\n",
       "    </tr>\n",
       "    <tr>\n",
       "      <th>6</th>\n",
       "      <td>35</td>\n",
       "      <td>0.971132</td>\n",
       "      <td>0.969361</td>\n",
       "    </tr>\n",
       "    <tr>\n",
       "      <th>7</th>\n",
       "      <td>40</td>\n",
       "      <td>0.971973</td>\n",
       "      <td>0.970135</td>\n",
       "    </tr>\n",
       "    <tr>\n",
       "      <th>8</th>\n",
       "      <td>45</td>\n",
       "      <td>0.972824</td>\n",
       "      <td>0.970337</td>\n",
       "    </tr>\n",
       "    <tr>\n",
       "      <th>9</th>\n",
       "      <td>50</td>\n",
       "      <td>0.972819</td>\n",
       "      <td>0.970533</td>\n",
       "    </tr>\n",
       "    <tr>\n",
       "      <th>10</th>\n",
       "      <td>55</td>\n",
       "      <td>0.973201</td>\n",
       "      <td>0.970845</td>\n",
       "    </tr>\n",
       "    <tr>\n",
       "      <th>11</th>\n",
       "      <td>60</td>\n",
       "      <td>0.973246</td>\n",
       "      <td>0.971132</td>\n",
       "    </tr>\n",
       "    <tr>\n",
       "      <th>12</th>\n",
       "      <td>65</td>\n",
       "      <td>0.973614</td>\n",
       "      <td>0.971446</td>\n",
       "    </tr>\n",
       "    <tr>\n",
       "      <th>13</th>\n",
       "      <td>70</td>\n",
       "      <td>0.973686</td>\n",
       "      <td>0.971758</td>\n",
       "    </tr>\n",
       "    <tr>\n",
       "      <th>14</th>\n",
       "      <td>75</td>\n",
       "      <td>0.974119</td>\n",
       "      <td>0.972143</td>\n",
       "    </tr>\n",
       "    <tr>\n",
       "      <th>15</th>\n",
       "      <td>80</td>\n",
       "      <td>0.974773</td>\n",
       "      <td>0.972637</td>\n",
       "    </tr>\n",
       "    <tr>\n",
       "      <th>16</th>\n",
       "      <td>85</td>\n",
       "      <td>0.975170</td>\n",
       "      <td>0.973458</td>\n",
       "    </tr>\n",
       "    <tr>\n",
       "      <th>17</th>\n",
       "      <td>90</td>\n",
       "      <td>0.975505</td>\n",
       "      <td>0.974298</td>\n",
       "    </tr>\n",
       "    <tr>\n",
       "      <th>18</th>\n",
       "      <td>95</td>\n",
       "      <td>0.976048</td>\n",
       "      <td>0.974892</td>\n",
       "    </tr>\n",
       "  </tbody>\n",
       "</table>\n",
       "</div>"
      ],
      "text/plain": [
       "     k  User_kNN_RMSE  Item_kNN_RMSE\n",
       "0    5       0.989842       0.983738\n",
       "1   10       0.972811       0.971920\n",
       "2   15       0.970277       0.969290\n",
       "3   20       0.969584       0.968541\n",
       "4   25       0.969495       0.967912\n",
       "5   30       0.970541       0.968824\n",
       "6   35       0.971132       0.969361\n",
       "7   40       0.971973       0.970135\n",
       "8   45       0.972824       0.970337\n",
       "9   50       0.972819       0.970533\n",
       "10  55       0.973201       0.970845\n",
       "11  60       0.973246       0.971132\n",
       "12  65       0.973614       0.971446\n",
       "13  70       0.973686       0.971758\n",
       "14  75       0.974119       0.972143\n",
       "15  80       0.974773       0.972637\n",
       "16  85       0.975170       0.973458\n",
       "17  90       0.975505       0.974298\n",
       "18  95       0.976048       0.974892"
      ]
     },
     "execution_count": 14,
     "metadata": {},
     "output_type": "execute_result"
    }
   ],
   "source": [
    "rmse_result.head(20)"
   ]
  },
  {
   "cell_type": "markdown",
   "id": "6e274ea9",
   "metadata": {},
   "source": [
    "<h2> Best value k for 2 model is 25"
   ]
  },
  {
   "cell_type": "markdown",
   "id": "8773ff7c",
   "metadata": {},
   "source": [
    "<h3> User_kNN"
   ]
  },
  {
   "cell_type": "code",
   "execution_count": 15,
   "id": "31863795",
   "metadata": {},
   "outputs": [
    {
     "data": {
      "text/plain": [
       "0.9588561341420486"
      ]
     },
     "execution_count": 15,
     "metadata": {},
     "output_type": "execute_result"
    }
   ],
   "source": [
    "rs = CF(all_train, k = 25, uuCF = 1)\n",
    "rs.fit()\n",
    "rs.rmse(rate_test)"
   ]
  },
  {
   "cell_type": "markdown",
   "id": "9ba58b2e",
   "metadata": {},
   "source": [
    "<h3>Item_kNN"
   ]
  },
  {
   "cell_type": "code",
   "execution_count": 16,
   "id": "3ec30fb3",
   "metadata": {},
   "outputs": [
    {
     "name": "stderr",
     "output_type": "stream",
     "text": [
      "C:\\Users\\DELL\\anaconda3\\lib\\site-packages\\numpy\\core\\fromnumeric.py:3419: RuntimeWarning: Mean of empty slice.\n",
      "  return _methods._mean(a, axis=axis, dtype=dtype,\n",
      "C:\\Users\\DELL\\anaconda3\\lib\\site-packages\\numpy\\core\\_methods.py:188: RuntimeWarning: invalid value encountered in double_scalars\n",
      "  ret = ret.dtype.type(ret / rcount)\n"
     ]
    },
    {
     "data": {
      "text/plain": [
       "0.9539008698118429"
      ]
     },
     "execution_count": 16,
     "metadata": {},
     "output_type": "execute_result"
    }
   ],
   "source": [
    "rs = CF(all_train, k = 25, uuCF = 0)\n",
    "rs.fit()\n",
    "rs.rmse(rate_test)"
   ]
  },
  {
   "cell_type": "code",
   "execution_count": null,
   "id": "f89bad8c",
   "metadata": {},
   "outputs": [],
   "source": []
  }
 ],
 "metadata": {
  "kernelspec": {
   "display_name": "Python 3 (ipykernel)",
   "language": "python",
   "name": "python3"
  },
  "language_info": {
   "codemirror_mode": {
    "name": "ipython",
    "version": 3
   },
   "file_extension": ".py",
   "mimetype": "text/x-python",
   "name": "python",
   "nbconvert_exporter": "python",
   "pygments_lexer": "ipython3",
   "version": "3.9.7"
  }
 },
 "nbformat": 4,
 "nbformat_minor": 5
}
